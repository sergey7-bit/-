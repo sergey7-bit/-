{
  "cells": [
    {
      "cell_type": "markdown",
      "metadata": {
        "id": "view-in-github",
        "colab_type": "text"
      },
      "source": [
        "<a href=\"https://colab.research.google.com/github/sergey7-bit/-/blob/main/%D0%A1%D0%BE%D0%B7%D0%B4%D0%B0%D0%BD%D0%B8%D0%B5_%D0%B4%D0%B8%D0%B0%D0%BB%D0%BE%D0%B3%D0%B0_%D1%81_chatGPT_%D0%A1%D0%BE%D0%B5%D0%B4%D0%B8%D0%BD%D0%B5%D0%BD%D0%B8%D0%B5_%D0%BD%D0%B5%D1%81%D0%BA%D0%BE%D0%BB%D1%8C%D0%BA%D0%B8%D1%85_chatGPT_%D0%BC%D0%BE%D0%B4%D0%B5%D0%BB%D0%B5%D0%B9_%7C_%D0%A3%D0%98%D0%98.ipynb\" target=\"_parent\"><img src=\"https://colab.research.google.com/assets/colab-badge.svg\" alt=\"Open In Colab\"/></a>"
      ]
    },
    {
      "cell_type": "markdown",
      "source": [
        "Возьмите за основу консультанта компании POSTOPLAN, автоматизированной платформы маркетинга в соцсетях и мессенджерах, созданной нами на уроке \"Создание диалога с chatGPT. Соединение нескольких chatGPT моделей\", добавьте консультанту генерацию аудио файла из ответа модели GPT."
      ],
      "metadata": {
        "id": "hpq0n1hl18JS"
      }
    },
    {
      "cell_type": "markdown",
      "source": [
        "Чтобы изменить содержимое ячейки, дважды нажмите на нее (или выберите \"Ввод\")\n",
        "Для Синтеза речи можно использовать любую нейронную сеть с подбором параметов.\n",
        "\n",
        "Обратите внимание, что каждый сервис ставит ограничение на бесплатную генерацию аудиоконтента, поэтому рекомендуем в промте дать указание модели отвечать в одно предложение."
      ],
      "metadata": {
        "id": "7l_0y3sl2EnK"
      }
    },
    {
      "cell_type": "code",
      "source": [
        "!pip install langchain==0.2.14 langchain-core==0.2.33 langchain-community==0.2.12 langchain-text-splitters==0.2.2 langchain-openai==0.1.22 openai==1.63.0 tiktoken==0.7.0 faiss-cpu numpy==1.26.4"
      ],
      "metadata": {
        "id": "1POvlMXxq11V",
        "collapsed": true,
        "outputId": "8634128e-ae43-4c94-d87c-2032cb1cff83",
        "colab": {
          "base_uri": "https://localhost:8080/"
        }
      },
      "execution_count": 7,
      "outputs": [
        {
          "output_type": "stream",
          "name": "stdout",
          "text": [
            "Requirement already satisfied: langchain==0.2.14 in /usr/local/lib/python3.11/dist-packages (0.2.14)\n",
            "Requirement already satisfied: langchain-core==0.2.33 in /usr/local/lib/python3.11/dist-packages (0.2.33)\n",
            "Requirement already satisfied: langchain-community==0.2.12 in /usr/local/lib/python3.11/dist-packages (0.2.12)\n",
            "Requirement already satisfied: langchain-text-splitters==0.2.2 in /usr/local/lib/python3.11/dist-packages (0.2.2)\n",
            "Requirement already satisfied: langchain-openai==0.1.22 in /usr/local/lib/python3.11/dist-packages (0.1.22)\n",
            "Requirement already satisfied: openai==1.63.0 in /usr/local/lib/python3.11/dist-packages (1.63.0)\n",
            "Requirement already satisfied: tiktoken==0.7.0 in /usr/local/lib/python3.11/dist-packages (0.7.0)\n",
            "Requirement already satisfied: faiss-cpu in /usr/local/lib/python3.11/dist-packages (1.11.0)\n",
            "Requirement already satisfied: numpy==1.26.4 in /usr/local/lib/python3.11/dist-packages (1.26.4)\n",
            "Requirement already satisfied: PyYAML>=5.3 in /usr/local/lib/python3.11/dist-packages (from langchain==0.2.14) (6.0.2)\n",
            "Requirement already satisfied: SQLAlchemy<3,>=1.4 in /usr/local/lib/python3.11/dist-packages (from langchain==0.2.14) (2.0.40)\n",
            "Requirement already satisfied: aiohttp<4.0.0,>=3.8.3 in /usr/local/lib/python3.11/dist-packages (from langchain==0.2.14) (3.11.15)\n",
            "Requirement already satisfied: langsmith<0.2.0,>=0.1.17 in /usr/local/lib/python3.11/dist-packages (from langchain==0.2.14) (0.1.147)\n",
            "Requirement already satisfied: pydantic<3,>=1 in /usr/local/lib/python3.11/dist-packages (from langchain==0.2.14) (2.11.4)\n",
            "Requirement already satisfied: requests<3,>=2 in /usr/local/lib/python3.11/dist-packages (from langchain==0.2.14) (2.32.3)\n",
            "Requirement already satisfied: tenacity!=8.4.0,<9.0.0,>=8.1.0 in /usr/local/lib/python3.11/dist-packages (from langchain==0.2.14) (8.5.0)\n",
            "Requirement already satisfied: jsonpatch<2.0,>=1.33 in /usr/local/lib/python3.11/dist-packages (from langchain-core==0.2.33) (1.33)\n",
            "Requirement already satisfied: packaging<25,>=23.2 in /usr/local/lib/python3.11/dist-packages (from langchain-core==0.2.33) (24.2)\n",
            "Requirement already satisfied: typing-extensions>=4.7 in /usr/local/lib/python3.11/dist-packages (from langchain-core==0.2.33) (4.13.2)\n",
            "Requirement already satisfied: dataclasses-json<0.7,>=0.5.7 in /usr/local/lib/python3.11/dist-packages (from langchain-community==0.2.12) (0.6.7)\n",
            "Requirement already satisfied: anyio<5,>=3.5.0 in /usr/local/lib/python3.11/dist-packages (from openai==1.63.0) (4.9.0)\n",
            "Requirement already satisfied: distro<2,>=1.7.0 in /usr/local/lib/python3.11/dist-packages (from openai==1.63.0) (1.9.0)\n",
            "Requirement already satisfied: httpx<1,>=0.23.0 in /usr/local/lib/python3.11/dist-packages (from openai==1.63.0) (0.28.1)\n",
            "Requirement already satisfied: jiter<1,>=0.4.0 in /usr/local/lib/python3.11/dist-packages (from openai==1.63.0) (0.9.0)\n",
            "Requirement already satisfied: sniffio in /usr/local/lib/python3.11/dist-packages (from openai==1.63.0) (1.3.1)\n",
            "Requirement already satisfied: tqdm>4 in /usr/local/lib/python3.11/dist-packages (from openai==1.63.0) (4.67.1)\n",
            "Requirement already satisfied: regex>=2022.1.18 in /usr/local/lib/python3.11/dist-packages (from tiktoken==0.7.0) (2024.11.6)\n",
            "Requirement already satisfied: aiohappyeyeballs>=2.3.0 in /usr/local/lib/python3.11/dist-packages (from aiohttp<4.0.0,>=3.8.3->langchain==0.2.14) (2.6.1)\n",
            "Requirement already satisfied: aiosignal>=1.1.2 in /usr/local/lib/python3.11/dist-packages (from aiohttp<4.0.0,>=3.8.3->langchain==0.2.14) (1.3.2)\n",
            "Requirement already satisfied: attrs>=17.3.0 in /usr/local/lib/python3.11/dist-packages (from aiohttp<4.0.0,>=3.8.3->langchain==0.2.14) (25.3.0)\n",
            "Requirement already satisfied: frozenlist>=1.1.1 in /usr/local/lib/python3.11/dist-packages (from aiohttp<4.0.0,>=3.8.3->langchain==0.2.14) (1.6.0)\n",
            "Requirement already satisfied: multidict<7.0,>=4.5 in /usr/local/lib/python3.11/dist-packages (from aiohttp<4.0.0,>=3.8.3->langchain==0.2.14) (6.4.3)\n",
            "Requirement already satisfied: propcache>=0.2.0 in /usr/local/lib/python3.11/dist-packages (from aiohttp<4.0.0,>=3.8.3->langchain==0.2.14) (0.3.1)\n",
            "Requirement already satisfied: yarl<2.0,>=1.17.0 in /usr/local/lib/python3.11/dist-packages (from aiohttp<4.0.0,>=3.8.3->langchain==0.2.14) (1.20.0)\n",
            "Requirement already satisfied: idna>=2.8 in /usr/local/lib/python3.11/dist-packages (from anyio<5,>=3.5.0->openai==1.63.0) (3.10)\n",
            "Requirement already satisfied: marshmallow<4.0.0,>=3.18.0 in /usr/local/lib/python3.11/dist-packages (from dataclasses-json<0.7,>=0.5.7->langchain-community==0.2.12) (3.26.1)\n",
            "Requirement already satisfied: typing-inspect<1,>=0.4.0 in /usr/local/lib/python3.11/dist-packages (from dataclasses-json<0.7,>=0.5.7->langchain-community==0.2.12) (0.9.0)\n",
            "Requirement already satisfied: certifi in /usr/local/lib/python3.11/dist-packages (from httpx<1,>=0.23.0->openai==1.63.0) (2025.4.26)\n",
            "Requirement already satisfied: httpcore==1.* in /usr/local/lib/python3.11/dist-packages (from httpx<1,>=0.23.0->openai==1.63.0) (1.0.9)\n",
            "Requirement already satisfied: h11>=0.16 in /usr/local/lib/python3.11/dist-packages (from httpcore==1.*->httpx<1,>=0.23.0->openai==1.63.0) (0.16.0)\n",
            "Requirement already satisfied: jsonpointer>=1.9 in /usr/local/lib/python3.11/dist-packages (from jsonpatch<2.0,>=1.33->langchain-core==0.2.33) (3.0.0)\n",
            "Requirement already satisfied: orjson<4.0.0,>=3.9.14 in /usr/local/lib/python3.11/dist-packages (from langsmith<0.2.0,>=0.1.17->langchain==0.2.14) (3.10.18)\n",
            "Requirement already satisfied: requests-toolbelt<2.0.0,>=1.0.0 in /usr/local/lib/python3.11/dist-packages (from langsmith<0.2.0,>=0.1.17->langchain==0.2.14) (1.0.0)\n",
            "Requirement already satisfied: annotated-types>=0.6.0 in /usr/local/lib/python3.11/dist-packages (from pydantic<3,>=1->langchain==0.2.14) (0.7.0)\n",
            "Requirement already satisfied: pydantic-core==2.33.2 in /usr/local/lib/python3.11/dist-packages (from pydantic<3,>=1->langchain==0.2.14) (2.33.2)\n",
            "Requirement already satisfied: typing-inspection>=0.4.0 in /usr/local/lib/python3.11/dist-packages (from pydantic<3,>=1->langchain==0.2.14) (0.4.0)\n",
            "Requirement already satisfied: charset-normalizer<4,>=2 in /usr/local/lib/python3.11/dist-packages (from requests<3,>=2->langchain==0.2.14) (3.4.2)\n",
            "Requirement already satisfied: urllib3<3,>=1.21.1 in /usr/local/lib/python3.11/dist-packages (from requests<3,>=2->langchain==0.2.14) (2.4.0)\n",
            "Requirement already satisfied: greenlet>=1 in /usr/local/lib/python3.11/dist-packages (from SQLAlchemy<3,>=1.4->langchain==0.2.14) (3.2.2)\n",
            "Requirement already satisfied: mypy-extensions>=0.3.0 in /usr/local/lib/python3.11/dist-packages (from typing-inspect<1,>=0.4.0->dataclasses-json<0.7,>=0.5.7->langchain-community==0.2.12) (1.1.0)\n"
          ]
        }
      ]
    },
    {
      "cell_type": "code",
      "execution_count": 9,
      "metadata": {
        "id": "nT58l5WXcFYf"
      },
      "outputs": [],
      "source": [
        "# импортируем необходимые библиотеки\n",
        "from openai import OpenAI\n",
        "from langchain_openai import OpenAIEmbeddings\n",
        "from langchain_text_splitters import RecursiveCharacterTextSplitter, MarkdownHeaderTextSplitter, CharacterTextSplitter\n",
        "from langchain_community.vectorstores import FAISS\n",
        "from langchain_community.document_loaders import TextLoader\n",
        "from langchain.docstore.document import Document\n",
        "import os\n",
        "import re\n",
        "import requests\n",
        "import openai\n",
        "import tiktoken\n",
        "import matplotlib.pyplot as plt\n",
        "import textwrap\n",
        "from textwrap import fill\n",
        "\n",
        "import logging\n",
        "logging.getLogger(\"langchain.text_splitter\").setLevel(logging.ERROR)"
      ]
    },
    {
      "cell_type": "code",
      "execution_count": 11,
      "metadata": {
        "id": "ZImQMbK-cFbF"
      },
      "outputs": [],
      "source": [
        "# использование секретного ключа в колабе\n",
        "from google.colab import userdata\n",
        "# Получение API ключа из пользовательских данных Colab и установка его как переменной среды\n",
        "key = userdata.get('OPENAI_API_KEY')\n",
        "os.environ[\"OPENAI_API_KEY\"] = key\n"
      ]
    },
    {
      "cell_type": "code",
      "source": [
        "# Создание клиента OpenAI с использованием API ключа из переменных среды\n",
        "client = OpenAI()"
      ],
      "metadata": {
        "id": "HPjgxealB3-5"
      },
      "execution_count": 12,
      "outputs": []
    },
    {
      "cell_type": "code",
      "execution_count": 13,
      "metadata": {
        "id": "n-TD6aUccFdd"
      },
      "outputs": [],
      "source": [
        "# функция для загрузки документа по ссылке из гугл драйв\n",
        "def load_document_text(url: str) -> str:\n",
        "    # Extract the document ID from the URL\n",
        "    match_ = re.search('/document/d/([a-zA-Z0-9-_]+)', url)\n",
        "    if match_ is None:\n",
        "        raise ValueError('Invalid Google Docs URL')\n",
        "    doc_id = match_.group(1)\n",
        "\n",
        "    # Download the document as plain text\n",
        "    response = requests.get(f'https://docs.google.com/document/d/{doc_id}/export?format=txt')\n",
        "    response.raise_for_status()\n",
        "    text = response.text\n",
        "\n",
        "    return text"
      ]
    },
    {
      "cell_type": "code",
      "execution_count": 14,
      "metadata": {
        "id": "in85z25McFjN"
      },
      "outputs": [],
      "source": [
        "# База знаний, которая будет подаваться в langChain\n",
        "database= load_document_text('https://docs.google.com/document/d/1rihIt6rnBHfrv42C1ALtpoHoS2jIVseCg49aWqsOyk4')"
      ]
    },
    {
      "cell_type": "code",
      "execution_count": 15,
      "metadata": {
        "colab": {
          "base_uri": "https://localhost:8080/",
          "height": 126
        },
        "id": "HrA8e_U9MMfX",
        "outputId": "d82b851a-eb27-4671-be25-4970346d36bf"
      },
      "outputs": [
        {
          "output_type": "execute_result",
          "data": {
            "text/plain": [
              "'\\ufeff#  Пусть соцсети работают на вас\\r\\n\\r\\n\\r\\n##  Соцсети на автопилоте — создавайте, планируйте и продвигайте свой контент\\r\\n\\r\\n\\r\\nPOSTOPLAN отмечен наградами, ему доверяют 50 000+ специалистов и компаний из 147 стран\\r\\n76% уменьшили время работы в соцсетях более, чем на 4 часа в неделю\\r\\n15% увеличили количество клиентов уже в первые месяцы работы с сервисом\\r\\n55% отметили увеличение охвата постов и рост аудитории\\r\\n\\r\\n\\r\\n##  Создаём выдающиеся возможности для маркетинга в соцсетях\\r\\n\\r\\n\\r\\n1. Гибкие подписки: платите только за подключенные аккаунты, без лишних расходов и переплат\\r\\n2. Количество пользователей \\r\\n3. неограниченно: добавляйте коллег, клиентов или сотрудников для командной работы над проектами\\r\\n4. Количество проектов \\r\\n5. неограниченно: создавайте сколько угодно рабочих проектов и давайте к ним доступ членам команды\\r\\n6. Постинг 24/7: ведите сразу все нужные вам аккаунты на единой платформе\\r\\n7. Фоторедактор и библиотека с 2 млн. изображений: сохраняйте свой уникальный фильтр, создавайте визу'"
            ],
            "application/vnd.google.colaboratory.intrinsic+json": {
              "type": "string"
            }
          },
          "metadata": {},
          "execution_count": 15
        }
      ],
      "source": [
        "database[:1000]"
      ]
    },
    {
      "cell_type": "markdown",
      "metadata": {
        "id": "gENLIOFmolKb"
      },
      "source": [
        "Дублируем текст заголовков без символов \"#\", чтобы тексты заголовков не пропали из чанков при использовании MarkdownHeaderTextSplitter  "
      ]
    },
    {
      "cell_type": "code",
      "execution_count": 16,
      "metadata": {
        "id": "QhFQfP86ogd6"
      },
      "outputs": [],
      "source": [
        "def duplicate_headers_without_hashes(text):\n",
        "    \"\"\"\n",
        "    Дублирует заголовки в тексте, убирая из дубликатов хэши.\n",
        "\n",
        "    Например:\n",
        "    '# Заголовок' превращается в:\n",
        "    '# Заголовок\n",
        "    Заголовок'\n",
        "    \"\"\"\n",
        "\n",
        "    # Вспомогательная функция, которая будет вызываться для каждого найденного совпадения в тексте\n",
        "    def replacer(match):\n",
        "        # match.group() вернет найденный заголовок с хэшами.\n",
        "        # затем мы добавляем к нему перенос строки и ту же строку, но без хэшей\n",
        "        return match.group() + \"\\n\" + match.group().replace(\"#\", \"\").strip()\n",
        "\n",
        "    # re.sub ищет в тексте все заголовки, начинающиеся с 1 до 3 хэшей, и заменяет их\n",
        "    # с помощью функции replacer\n",
        "    result = re.sub(r'#{1,3} .+', replacer, text)\n",
        "\n",
        "    return result"
      ]
    },
    {
      "cell_type": "code",
      "execution_count": 17,
      "metadata": {
        "id": "e8-GEdmVo59R"
      },
      "outputs": [],
      "source": [
        "database=duplicate_headers_without_hashes(database)"
      ]
    },
    {
      "cell_type": "code",
      "source": [
        "# при необходимости предобработанную БЗ можно сохранить:\n",
        "with open('Postoplan.txt', 'w') as f:\n",
        "    f.write(database)\n",
        "\n",
        "from google.colab import files\n",
        "files.download('Postoplan.txt')"
      ],
      "metadata": {
        "colab": {
          "base_uri": "https://localhost:8080/",
          "height": 17
        },
        "id": "oOUsFi92Tw9x",
        "outputId": "58a7ca03-2af6-4570-86b6-cfd4ffbd4330"
      },
      "execution_count": 19,
      "outputs": [
        {
          "output_type": "display_data",
          "data": {
            "text/plain": [
              "<IPython.core.display.Javascript object>"
            ],
            "application/javascript": [
              "\n",
              "    async function download(id, filename, size) {\n",
              "      if (!google.colab.kernel.accessAllowed) {\n",
              "        return;\n",
              "      }\n",
              "      const div = document.createElement('div');\n",
              "      const label = document.createElement('label');\n",
              "      label.textContent = `Downloading \"${filename}\": `;\n",
              "      div.appendChild(label);\n",
              "      const progress = document.createElement('progress');\n",
              "      progress.max = size;\n",
              "      div.appendChild(progress);\n",
              "      document.body.appendChild(div);\n",
              "\n",
              "      const buffers = [];\n",
              "      let downloaded = 0;\n",
              "\n",
              "      const channel = await google.colab.kernel.comms.open(id);\n",
              "      // Send a message to notify the kernel that we're ready.\n",
              "      channel.send({})\n",
              "\n",
              "      for await (const message of channel.messages) {\n",
              "        // Send a message to notify the kernel that we're ready.\n",
              "        channel.send({})\n",
              "        if (message.buffers) {\n",
              "          for (const buffer of message.buffers) {\n",
              "            buffers.push(buffer);\n",
              "            downloaded += buffer.byteLength;\n",
              "            progress.value = downloaded;\n",
              "          }\n",
              "        }\n",
              "      }\n",
              "      const blob = new Blob(buffers, {type: 'application/binary'});\n",
              "      const a = document.createElement('a');\n",
              "      a.href = window.URL.createObjectURL(blob);\n",
              "      a.download = filename;\n",
              "      div.appendChild(a);\n",
              "      a.click();\n",
              "      div.remove();\n",
              "    }\n",
              "  "
            ]
          },
          "metadata": {}
        },
        {
          "output_type": "display_data",
          "data": {
            "text/plain": [
              "<IPython.core.display.Javascript object>"
            ],
            "application/javascript": [
              "download(\"download_8a99b398-ec35-47c3-a035-2bae8482002c\", \"Postoplan.txt\", 194997)"
            ]
          },
          "metadata": {}
        }
      ]
    },
    {
      "cell_type": "code",
      "execution_count": 20,
      "metadata": {
        "colab": {
          "base_uri": "https://localhost:8080/",
          "height": 126
        },
        "id": "MjufIMNotaXo",
        "outputId": "0f6dfe64-63a0-4527-ffec-e915c6be7fdc"
      },
      "outputs": [
        {
          "output_type": "execute_result",
          "data": {
            "text/plain": [
              "'\\ufeff#  Пусть соцсети работают на вас\\r\\nПусть соцсети работают на вас\\n\\r\\n\\r\\n##  Соцсети на автопилоте — создавайте, планируйте и продвигайте свой контент\\r\\nСоцсети на автопилоте — создавайте, планируйте и продвигайте свой контент\\n\\r\\n\\r\\nPOSTOPLAN отмечен наградами, ему доверяют 50 000+ специалистов и компаний из 147 стран\\r\\n76% уменьшили время работы в соцсетях более, чем на 4 часа в неделю\\r\\n15% увеличили количество клиентов уже в первые месяцы работы с сервисом\\r\\n55% отметили увеличение охвата постов и рост аудитории\\r\\n\\r\\n\\r\\n##  Создаём выдающиеся возможности для маркетинга в соцсетях\\r\\nСоздаём выдающиеся возможности для маркетинга в соцсетях\\n\\r\\n\\r\\n1. Гибкие подписки: платите только за подключенные аккаунты, без лишних расходов и переплат\\r\\n2. Количество пользователей \\r\\n3. неограниченно: добавляйте коллег, клиентов или сотрудников для командной работы над проектами\\r\\n4. Количество проектов \\r\\n5. неограниченно: создавайте сколько угодно рабочих проектов и давайте к ним доступ членам команды\\r\\n6. Постинг 24/7: ведите сразу все нужные вам аккаунты на единой платформе\\r\\n7. Фоторедактор и библиотека с 2 млн. изображений: сохраняйте свой уникальный фильтр, создавайте визуальный контент в пару кликов\\r\\n8. Интеграция со Slack и WordPress: и с другими нужными для комфортной работы сервисами\\r\\n9. Более 700 идей постов: в календаре POSTOPLAN вы найдете несколько инфоповодов для публикаций на каждый день\\r\\n10. Не только стандартные соцсети: с POSTOPLAN вы можете управлять Google My Business и планировать постинг в Telegram\\r\\n11. Будьте на связи с подписчиками: с DM&comments ни одно сообщение или комментарий не останется незамеченным или потерянным!\\r\\n12. Предварительный просмотр публикаций: создавайте публикации и заранее просматривайте, как они впишутся в ленту\\r\\n13. Массовое планирование и автопостинг: составляйте расписание для загрузки контента на месяцы вперед\\r\\n14. И много других крутых функций.\\r\\n\\r\\n\\r\\n##  Создавайте контент за пару минут\\r\\nСоздавайте контент за пару минут\\n\\r\\n\\r\\nВ календаре POSTOPLAN вы найдете идеи постов на каждый день. Невероятно быстрый графический редактор с AI-технологиями позволяет создавать впечатляющий визуальный контент в пару кликов.\\r\\n\\r\\n\\r\\n##  Доверьте управление соцсетями искусственному интеллекту \\r\\nДоверьте управление соцсетями искусственному интеллекту\\n\\r\\n\\r\\nС POSTOPLAN вы будете тратить рабочее время более эффективно. Теперь вы можете не отвлекаться на публикации вручную. Просто загрузите тексты и фото, проверьте, как посты будут выглядеть в ленте, а дальше наши алгоритмы на базе искусственного интеллекта подскажут самое эффективное время для размещения контента. Так вы расширите аудиторию и привлечете еще больше клиентов.\\r\\n\\r\\n\\r\\n##  Увеличивайте свою аудиторию и число клиентов\\r\\nУвеличивайте свою аудиторию и число клиентов\\n\\r\\n\\r\\n55% пользователей POSTOPLAN заметили увеличение аудитории уже в первые месяцы использования сервиса. Планируйте публикации на недели и месяцы вперед, и за счет регулярного постинга ваша аудитория будет расти естественным образом.\\r\\nЕсли вам нужно вырасти еще больше, воспользуйтесь встроенной платной рекламой с AI-алгоритмами. Вам не нужно ничего настраивать, мы все сделаем за вас.*\\r\\n*Эта функция будет доступна совсем скоро.\\r\\n\\r\\n\\r\\n##  Что еще дает Postoplan?\\r\\nЧто еще дает Postoplan?\\n\\r\\n\\r\\n1. Никакого стресса: POSTOPLAN уведомит вас о состоянии каждого запланированного поста или сообщения. Вы сразу узнаете о загрузке новой публикации.\\r\\nЭкономия времени: отложенный постинг помогает оптимизировать рабочий процесс и освободить больше драгоценного времени на другие задачи.\\r\\n2. Автоматизация SMM: периодически проводите акции и розыгрыши в аккаунтах? Настройте автопостинг и не беспокойтесь, что забудете сообщить своим подписчикам важную информацию.\\r\\n3. Банк идей для постов: в POSTOPLAN вы найдеты шаблоны публикаций и инфоповодов на каждый день. Создание контента еще никогда не было таким быстрым!\\r\\n   * # Отзывы наших клиентов\\r\\nОтзывы наших клиентов\\n\\r\\n\\r\\n##  Серджи Труньо Кунил\\r\\nСерджи Труньо Кунил\\nКоординатор отдела маркетинга\\r\\nDynamics UPC Manresa\\r\\nPOSTOPLAN предлагает два отличных и очень полезных преимущества для нас! Первое - это то, что все наши различные страницы в социальных сетях находятся в одном месте, а второе - возможность одновременно планировать нужные нам посты.Таким образом, мы можем писать разные тексты для разных социальных сетей и все это без необходимости переходить с одного аккаунта на другой. Что ещё лучше, система позволяет нам планировать посты. Это нам очень помогает, так как все они могут быть сделаны одновременно. Кроме того, планирование может быть сделано в течение семи дней с помощью базового плана Постоплана, так что вы можете легко спланировать всю неделю. Безусловно, это хорошее решение для хорошо скоординированного командного маркетинга.\\r\\n##  Aлиса Д.\\r\\nAлиса Д.\\nСША\\r\\nбьюти-блогер \\r\\nPOSTOPLAN я благодарна вдвойне: я сама сэкономила время на планирование и публикации, ответы на комментарии и вопросы подписчиков, поэтому было легко посоветовать им использовать сервис POSTOPLAN, где они тоже смогут экономить время на постинг и черпать вдохновение. Все в выигрыше!\\r\\n\\r\\n\\r\\n##  Мария K.\\r\\nМария K.\\nИталия\\r\\nконсалтинг\\r\\nЯ маркетолог — консультирую и помогаю небольшим туристическим компаниям выстраивать маркетинг в сети. Я с уверенностью советую им POSTOPLAN для работы с соцсетями и предоставляю им свои промокоды с 10% скидкой. Моя репутация крепнет благодаря партнерству с POSTOPLAN, и клиенты мне благодарны, за скидку в том числе!\\r\\n##  Ранбир Б.\\r\\nРанбир Б.\\nИндия\\r\\nпредприниматель\\r\\nПри выборе партнера мы оценивали не только лучшие и передовые технологии — мы искали компанию, похожую на наш бизнес, в которой работают умные, талантливые и увлеченные делом люди. Мы нашли отличного партнера в лице POSTOPLAN и начали зарабатывать, на своем примере показывая как POSTOPLAN может помочь в развитии бизнеса.\\r\\n\\r\\n\\r\\n##  Катерина Б\\r\\nКатерина Б\\nУчитель и бизнесмен в одном лице\\r\\nЯ новичок в POSTOPLAN, но я уже его люблю!\\r\\nС помощью POSTOPLAN я могу легко управлять не только одной, но и 6 социальными сетями одновременно. То есть мне не нужно заходить или даже открывать другие социальные аккаунты - я могу делать всю работу в одном месте.\\r\\nТакже мне нравится, что здесь есть календарь с международными праздниками - это отличные подсказки для планирования моего контента. Я также дала разрешение другим людям заниматься моими проектами, потому что здесь вы МОЖЕТЕ это сделать. Иногда я отдаю часть своих проектов на аутсорсинг фрилансерам, поэтому мне нравится, что с Postoplan это стало проще.\\r\\nЯ все еще использую бесплатную версию, и это здорово, потому что я могу использовать до 8 учетных записей одновременно (сейчас у меня только 5). Но с Business я могу работать с неограниченным количеством учетных записей, и я могу планировать публикации более чем за 7 дней вперед. И это менее 2 долларов в месяц, поэтому я сразу же перейду на Business Postoplan, как только он мне понадобится.\\r\\n##  Рикардо Акоста Гонсалез\\r\\nРикардо Акоста Гонсалез\\nCEO-директор\\r\\nACO consultores\\r\\nМне приходят все важные уведомления! Это отличный инструмент, который помогает мне управлять моим временем.\\r\\nЯ могу планировать посты и больше о них не беспокоиться. Также у меня есть возможность сделать их все всего за несколько часов и больше не думать об этом всю неделю.\\r\\nЕще одним преимуществом является то, что я могу синхронизировать все мои социальные страницы и управлять ими из одного места, что очень важно для меня.\\r\\nИ мне также очень нравится тот факт, что в в этой системе нет раздражающей рекламы. POSTOPLAN - это инструмент управления социальными сетями, который я долго искал. В целом, мне очень нравится POSTOPLAN!\\r\\n\\r\\n\\r\\n##  Michael\\r\\nMichael\\nProfessor\\r\\nМое мнение: отличный организаторС POSTOPLAN я могу сделать свою жизнь легче. Он помогает мне использовать множество социальных страниц в одном приложении и экономить много часов моего времени. У меня в кармане есть все важные уведомления.\\r\\n\\r\\n\\r\\n##  Adriana H\\r\\nAdriana H\\nSMM manager \\r\\nОчень полезный сервис\\r\\nЯ хотела бы поделиться своим опытом использования POSTOPLAN. Очень полезный сервис! Теперь у нас регулярно публикуются посты и мне не нужно ни о чем беспокоиться. И мне нравится, что очень удобно видеть статистику в своём личном кабинете.\\r\\nКроме того, иногда мне бывает сложно найти тему для поста.\\r\\nМне понравилось, что Postoplan несколько раз выручал меня советами по этому поводу.\\r\\n\\r\\n\\r\\n##  Shahroz H\\r\\nShahroz H\\nLecturer\\r\\nВо-первых, я должен сказать спасибо POSTOPLAN. Эта система облегчила мне жизнь. Я фрилансер и работаю более чем в одной социальной сети, и POSTOPLAN предоставляет мне единую платформу для управления всеми моими социальными сетями\\r\\nКогда вы работаете фрилансером, вам нужно управлять различными ресурсами для своих клиентов. POSTOPLAN помогает мне управлять ресурсами на единой платформе и делает мою работу гладкой и приятной. Это наиболее удобный социальный сервис. Он имеет понятный и простой вид, что позволяет улучшить рабочий процесс. Я могу одновременно обновлять свой блог и учетные записи в социальных сетях.\\r\\nPOSTOPLAN - самый действенный и эффективный инструмент. С ним никогда нет сложностей. POSTOPLAN предоставляет календарь, который упрощает планирование ваших задач. Вы также можете сэкономить свое время, чтобы запланировать один раз все свои посты на день и не стеснятся выполнять все другие задачи своей повседневной жизни, помимо социальной платформы. Это дает вам больше времени для расширения вашего бизнеса. Он прост в использовании и понятен. Его цена очень низкая по сравнению с его преимуществами. Он очень прост в использовании и настройке. Его качество невероятно высокое.\\r\\nPOSTOPLAN также предоставляет редактор фотографий, который вы можете использовать для публикации в социальных сетях. Я использую этот редактор, чтобы опубликовать хорошие изображение своих исследований в Linkedin.У POSTOPLAN есть возможность изменить тему, вы можете настроить ее по своему усмотрению и желанию, он также поддерживает разные языки.\\r\\nТакже, поделившись POSTOPLAN с другими коллегами и друзьями, вы с'"
            ],
            "application/vnd.google.colaboratory.intrinsic+json": {
              "type": "string"
            }
          },
          "metadata": {},
          "execution_count": 20
        }
      ],
      "source": [
        "database[:10000]"
      ]
    },
    {
      "cell_type": "code",
      "execution_count": 21,
      "metadata": {
        "id": "9w0rploTMxBI"
      },
      "outputs": [],
      "source": [
        "def num_tokens_from_string(string: str, encoding_name: str) -> int:\n",
        "      \"\"\"Возвращает количество токенов в строке\"\"\"\n",
        "      encoding = tiktoken.get_encoding(encoding_name)\n",
        "      num_tokens = len(encoding.encode(string))\n",
        "      return num_tokens\n",
        "\n",
        "def split_text(text):\n",
        "    headers_to_split_on = [\n",
        "        (\"#\", \"Header 1\"),\n",
        "        (\"##\", \"Header 2\"),\n",
        "        (\"###\", \"Header 3\"),\n",
        "    ]\n",
        "\n",
        "    markdown_splitter = MarkdownHeaderTextSplitter(headers_to_split_on=headers_to_split_on)\n",
        "    fragments = markdown_splitter.split_text(text)\n",
        "\n",
        "    # Подсчет токенов для каждого фрагмента и построение графика\n",
        "    fragment_token_counts = [num_tokens_from_string(fragment.page_content, \"cl100k_base\") for fragment in fragments]\n",
        "    plt.hist(fragment_token_counts, bins=50, alpha=0.5, label='Fragments')\n",
        "    plt.title('Распределение длин чанков в токенах')\n",
        "    plt.xlabel('Token Count')\n",
        "    plt.ylabel('Frequency')\n",
        "    plt.show()\n",
        "\n",
        "    return fragments"
      ]
    },
    {
      "cell_type": "code",
      "execution_count": 22,
      "metadata": {
        "colab": {
          "base_uri": "https://localhost:8080/",
          "height": 472
        },
        "id": "QMWvBiWwMxDZ",
        "outputId": "3b2dd741-0291-4de6-b56b-4f53d230fd27"
      },
      "outputs": [
        {
          "output_type": "display_data",
          "data": {
            "text/plain": [
              "<Figure size 640x480 with 1 Axes>"
            ],
            "image/png": "[encoded data removed]"
          },
          "metadata": {}
        }
      ],
      "source": [
        "source_chunks=split_text(database)"
      ]
    },
    {
      "cell_type": "code",
      "source": [
        "source_chunks[1]"
      ],
      "metadata": {
        "colab": {
          "base_uri": "https://localhost:8080/"
        },
        "id": "y6LOjckZtjGU",
        "outputId": "ab6f085c-c87e-4c1f-c087-5bf59141f52e"
      },
      "execution_count": 23,
      "outputs": [
        {
          "output_type": "execute_result",
          "data": {
            "text/plain": [
              "Document(metadata={'Header 1': 'Пусть соцсети работают на вас', 'Header 2': 'Соцсети на автопилоте — создавайте, планируйте и продвигайте свой контент'}, page_content='Соцсети на автопилоте — создавайте, планируйте и продвигайте свой контент  \\nPOSTOPLAN отмечен наградами, ему доверяют 50 000+ специалистов и компаний из 147 стран\\n76% уменьшили время работы в соцсетях более, чем на 4 часа в неделю\\n15% увеличили количество клиентов уже в первые месяцы работы с сервисом\\n55% отметили увеличение охвата постов и рост аудитории')"
            ]
          },
          "metadata": {},
          "execution_count": 23
        }
      ]
    },
    {
      "cell_type": "code",
      "source": [
        "# Инициализирум модель эмбеддингов\n",
        "embeddings = OpenAIEmbeddings()\n",
        "# Создадим индексную базу из разделенных фрагментов текста\n",
        "db = FAISS.from_documents(source_chunks, embeddings)\n"
      ],
      "metadata": {
        "id": "PUSD1hTRtFBG"
      },
      "execution_count": 24,
      "outputs": []
    },
    {
      "cell_type": "code",
      "execution_count": 25,
      "metadata": {
        "id": "yaqKLCA7cFgl"
      },
      "outputs": [],
      "source": [
        "# Инструкция для GPT, которая будет подаваться в system\n",
        "system= load_document_text('https://docs.google.com/document/d/1K1bQt7V-dVMIfwTK27-YicWrhgVTz8xmvtCrQLjC_d4')"
      ]
    },
    {
      "cell_type": "code",
      "execution_count": 26,
      "metadata": {
        "colab": {
          "base_uri": "https://localhost:8080/",
          "height": 125
        },
        "id": "-2SES7KnD3nW",
        "outputId": "03262e52-6fd9-4e85-9d71-bc1381d19806"
      },
      "outputs": [
        {
          "output_type": "execute_result",
          "data": {
            "text/plain": [
              "'\\ufeffТы-нейро-консультант в компании POSTOPLAN, автоматизированной платформы маркетинга в соцсетях и мессенджерах. Далее тебе будет представлена следующая информация: саммаризированный предыдущий диалог с пользователем, актуальный вопрос пользователя, документы с информацией для ответа клиенту. Твоя задача - полно и точно ответить на вопрос пользователя по поводу компании POSTOPLAN, их продукте, ценах, тарифах.  Особенно аккуратно отвечай по цифрам - тарифам и  тому, что входит в каждый тариф. В своем ответе основывайся только на представленных тебе документах, не придумывай ничего “от себя”, однако пользователю об этих документах и их номерах не сообщай. \\r\\nЕсли пользователь представился (назвал свое имя), используй его имя при ответе. \\r\\nЕсли в кратком обзоре предыдущего диалога фигурирует имя пользователя, обязательно используй его в ответе, обращайся к пользователю по имени.\\r\\nТебе запрещено здороваться с пользователем'"
            ],
            "application/vnd.google.colaboratory.intrinsic+json": {
              "type": "string"
            }
          },
          "metadata": {},
          "execution_count": 26
        }
      ],
      "source": [
        "system"
      ]
    },
    {
      "cell_type": "code",
      "execution_count": 27,
      "metadata": {
        "id": "7lAYuYN9P7zz"
      },
      "outputs": [],
      "source": [
        "def answer_index(system, search_query, topic, search_index, verbose=0):\n",
        "    # Поиск релевантных отрезков из базы знаний по вопросу пользователя\n",
        "    docs = search_index.similarity_search(search_query, k=3)\n",
        "    if verbose:\n",
        "        print('\\n ===========================================: ')\n",
        "\n",
        "    message_content = re.sub(r'\\n{2}', ' ', '\\n '.join([f'\\nОтрывок документа №{i+1}\\n=====================' + doc.page_content + '\\n' for i, doc in enumerate(docs)]))\n",
        "    if verbose:\n",
        "        print('message_content :\\n ======================================== \\n', message_content)\n",
        "\n",
        "    client = OpenAI()\n",
        "    messages = [\n",
        "        {\"role\": \"system\", \"content\": system},\n",
        "        {\"role\": \"user\", \"content\": f\"Ответь на вопрос пользователя. Документы с информацией для ответа клиенту: {message_content}\\n\\n{topic}\"}\n",
        "    ]\n",
        "\n",
        "    if verbose:\n",
        "        print('\\n ===========================================: ')\n",
        "\n",
        "    completion = client.chat.completions.create(\n",
        "        model=\"gpt-4o-mini\",\n",
        "        messages=messages,\n",
        "        temperature=0.1\n",
        "    )\n",
        "    answer = completion.choices[0].message.content\n",
        "    return answer\n"
      ]
    },
    {
      "cell_type": "markdown",
      "metadata": {
        "id": "02FinpIRv2tA"
      },
      "source": [
        "Делаем функцию, которая будет саммаризировать диалог по мере его накапливания, и данную саммаризацию мы будем подавать модели, которая отвечает на вопрос клиента, чтобы модель учитывала контекст диалога."
      ]
    },
    {
      "cell_type": "code",
      "execution_count": 28,
      "metadata": {
        "id": "qv94-X_7P75z"
      },
      "outputs": [],
      "source": [
        "def summarize_questions(dialog):\n",
        "    \"\"\"\n",
        "    Функция возвращает саммаризированный текст диалога.\n",
        "    \"\"\"\n",
        "    messages = [\n",
        "        {\"role\": \"system\", \"content\": \"Ты - нейро-саммаризатор. Твоя задача - саммаризировать диалог, который тебе пришел. Если пользователь назвал свое имя, обязательно отрази его в саммаризированном диалоге\"},\n",
        "        {\"role\": \"user\", \"content\": \"Саммаризируй следующий диалог консультанта и пользователя, тебе запрещено удалять из саммаризации имя пользователя: \" + \" \".join(dialog)}\n",
        "    ]\n",
        "\n",
        "    completion = client.chat.completions.create(\n",
        "        model=\"gpt-4o-mini\",     # используем gpt4 для более точной саммаризации\n",
        "        messages=messages,\n",
        "        temperature=0,          # Используем более низкую температуру для более определенной суммаризации\n",
        "    )\n",
        "\n",
        "    return completion.choices[0].message.content"
      ]
    },
    {
      "cell_type": "markdown",
      "metadata": {
        "id": "HcrmWxpTAD9k"
      },
      "source": [
        "Далее следует основная функция, объединяющая все предыдущие. В нее мы подаем инструкцию, базу знаний, текущий вопрос клиента из чата, а также историю предыдущего диалога - при наличии."
      ]
    },
    {
      "cell_type": "code",
      "source": [
        "def answer_user_question_dialog(system, db, user_question, question_history):\n",
        "    \"\"\"\n",
        "    Функция возвращает ответ на вопрос пользователя.\n",
        "    \"\"\"\n",
        "    summarized_history = \"\"\n",
        "    # Если в истории более одного вопроса, применяем суммаризацию\n",
        "    if len(question_history) > 0:\n",
        "        summarized_history = \"Вот саммаризированный предыдущий диалог с пользователем: \" + summarize_questions([q + ' ' + (a if a else '') for q, a in question_history])\n",
        "\n",
        "    topic = summarized_history + \" Актуальный вопрос пользователя: \" + user_question\n",
        "\n",
        "    # Получаем ответ, используя только user_question для поиска в базе данных\n",
        "    answer_text = answer_index(system, user_question, topic, db)\n",
        "\n",
        "    question_history.append((user_question, answer_text if answer_text else ''))\n",
        "    # Выводим саммаризированный текст, который видит модель\n",
        "    if summarized_history:\n",
        "        print('****************************')\n",
        "        print(summarized_history)\n",
        "        print('****************************')\n",
        "\n",
        "    return answer_text\n"
      ],
      "metadata": {
        "id": "g9maUoWgjmgh"
      },
      "execution_count": 29,
      "outputs": []
    },
    {
      "cell_type": "markdown",
      "metadata": {
        "id": "DPqzdG0PAu78"
      },
      "source": [
        "Следующая функция запускает диалог с клиентом и останавливает его при вводе слова \"stop\"."
      ]
    },
    {
      "cell_type": "code",
      "execution_count": 30,
      "metadata": {
        "id": "Q496OWI7Rrb0"
      },
      "outputs": [],
      "source": [
        "def run_dialog(system_doc_url, knowledge_base_url):\n",
        "    \"\"\"\n",
        "    Функция запускает диалог между пользователем и нейро-консультантом.\n",
        "    \"\"\"\n",
        "    #список кортежей, где каждый кортеж содержит пару вопрос-ответ, для отслеживания истории вопросов и ответов во время сессии диалога.\n",
        "    question_history = []\n",
        "    while True:\n",
        "        user_question = input('Пользователь: ')\n",
        "        if user_question.lower() == 'stop':\n",
        "            break\n",
        "        answer = answer_user_question_dialog(system_doc_url, knowledge_base_url, user_question, question_history)\n",
        "        print('Консультант:', textwrap.fill(answer))\n",
        "\n",
        "    return"
      ]
    },
    {
      "cell_type": "code",
      "source": [
        "run_dialog(system, db)"
      ],
      "metadata": {
        "colab": {
          "base_uri": "https://localhost:8080/"
        },
        "id": "4Hn_wMllFZt3",
        "outputId": "ccd0b646-41c8-4bf3-9bde-66c97a3e9a41"
      },
      "execution_count": 31,
      "outputs": [
        {
          "name": "stdout",
          "output_type": "stream",
          "text": [
            "Пользователь: привет\n",
            "Консультант: Вопрос не содержит конкретной информации, на которую можно ответить.\n",
            "Если у тебя есть вопросы о тарифах, функциях или чем-то еще,\n",
            "пожалуйста, уточни, и я с радостью помогу!\n",
            "Пользователь: что такое постоплан\n",
            "****************************\n",
            "Вот саммаризированный предыдущий диалог с пользователем: Пользователь приветствует консультанта и задает вопрос, который не содержит конкретной информации. Консультант предлагает уточнить вопросы о тарифах, функциях или других темах, чтобы помочь.\n",
            "****************************\n",
            "Консультант: POSTOPLAN — это автоматизированная платформа для маркетинга в\n",
            "социальных сетях и мессенджерах. Она позволяет пользователям\n",
            "планировать и управлять публикациями в различных социальных сетях из\n",
            "одного места, что значительно упрощает процесс ведения аккаунтов.   С\n",
            "помощью POSTOPLAN вы можете настроить автопостинг, что позволяет вам\n",
            "не беспокоиться о том, что вы забудете опубликовать важную информацию.\n",
            "Платформа также предлагает банк идей для постов, включая шаблоны\n",
            "публикаций и инфоповоды, что делает создание контента более быстрым и\n",
            "удобным.  Кроме того, POSTOPLAN уведомляет вас о состоянии каждого\n",
            "запланированного поста, что помогает оптимизировать рабочий процесс и\n",
            "сэкономить время. Вы можете планировать посты на неделю вперед, что\n",
            "особенно полезно для командного маркетинга.\n",
            "Пользователь: stop\n"
          ]
        }
      ]
    },
    {
      "cell_type": "markdown",
      "metadata": {
        "id": "nh-hbiklHNPy"
      },
      "source": [
        "# Нейро-продажник из 3 моделей gpt"
      ]
    },
    {
      "cell_type": "code",
      "execution_count": 33,
      "metadata": {
        "id": "yGdwPHPsIcqR"
      },
      "outputs": [],
      "source": [
        "database = load_document_text('https://docs.google.com/document/d/199yEDg1EIlTImWjFR4FGRsqw70mjlP85jG8XduD6B24') # база знаний"
      ]
    },
    {
      "cell_type": "code",
      "execution_count": 34,
      "metadata": {
        "id": "e5UMlButIctB"
      },
      "outputs": [],
      "source": [
        "system_1 = load_document_text('https://docs.google.com/document/d/1xFYprEaF47_uiNHo4JQJevpVV6v5mG2v6mZXy93MZQA') # инструкция для первой модели"
      ]
    },
    {
      "cell_type": "code",
      "execution_count": 35,
      "metadata": {
        "id": "nIbiTlx5Icv0"
      },
      "outputs": [],
      "source": [
        "system_2 = load_document_text('https://docs.google.com/document/d/12nLPgHv_HJMPnuGWlWVhOne9dH9-04cLSyusO0AVQ9o') # инструкция для второй модели"
      ]
    },
    {
      "cell_type": "code",
      "execution_count": 36,
      "metadata": {
        "id": "clbh-u2gIc2l"
      },
      "outputs": [],
      "source": [
        "system_3 = load_document_text('https://docs.google.com/document/d/1oY6-HEfL5NDvnvWaxrW_HqAs0tMX0ogpB8I1OXbbgx0') # инструкция для третьей модели"
      ]
    },
    {
      "cell_type": "code",
      "execution_count": 38,
      "metadata": {
        "id": "g5Zpig0YIc5x",
        "colab": {
          "base_uri": "https://localhost:8080/"
        },
        "outputId": "c4e26015-a35b-4497-fae8-bafb0420cbf5"
      },
      "outputs": [
        {
          "output_type": "stream",
          "name": "stderr",
          "text": [
            "WARNING:langchain_text_splitters.base:Created a chunk of size 1769, which is longer than the specified 1024\n",
            "WARNING:langchain_text_splitters.base:Created a chunk of size 1047, which is longer than the specified 1024\n",
            "WARNING:langchain_text_splitters.base:Created a chunk of size 1326, which is longer than the specified 1024\n",
            "WARNING:langchain_text_splitters.base:Created a chunk of size 1338, which is longer than the specified 1024\n",
            "WARNING:langchain_text_splitters.base:Created a chunk of size 1069, which is longer than the specified 1024\n",
            "WARNING:langchain_text_splitters.base:Created a chunk of size 1047, which is longer than the specified 1024\n",
            "WARNING:langchain_text_splitters.base:Created a chunk of size 1046, which is longer than the specified 1024\n",
            "WARNING:langchain_text_splitters.base:Created a chunk of size 1077, which is longer than the specified 1024\n",
            "WARNING:langchain_text_splitters.base:Created a chunk of size 1049, which is longer than the specified 1024\n",
            "WARNING:langchain_text_splitters.base:Created a chunk of size 1070, which is longer than the specified 1024\n",
            "WARNING:langchain_text_splitters.base:Created a chunk of size 1084, which is longer than the specified 1024\n",
            "WARNING:langchain_text_splitters.base:Created a chunk of size 1085, which is longer than the specified 1024\n",
            "WARNING:langchain_text_splitters.base:Created a chunk of size 1111, which is longer than the specified 1024\n",
            "WARNING:langchain_text_splitters.base:Created a chunk of size 1071, which is longer than the specified 1024\n",
            "WARNING:langchain_text_splitters.base:Created a chunk of size 1069, which is longer than the specified 1024\n",
            "WARNING:langchain_text_splitters.base:Created a chunk of size 1041, which is longer than the specified 1024\n",
            "WARNING:langchain_text_splitters.base:Created a chunk of size 1087, which is longer than the specified 1024\n",
            "WARNING:langchain_text_splitters.base:Created a chunk of size 1753, which is longer than the specified 1024\n",
            "WARNING:langchain_text_splitters.base:Created a chunk of size 1101, which is longer than the specified 1024\n",
            "WARNING:langchain_text_splitters.base:Created a chunk of size 1171, which is longer than the specified 1024\n",
            "WARNING:langchain_text_splitters.base:Created a chunk of size 1104, which is longer than the specified 1024\n",
            "WARNING:langchain_text_splitters.base:Created a chunk of size 1160, which is longer than the specified 1024\n",
            "WARNING:langchain_text_splitters.base:Created a chunk of size 1248, which is longer than the specified 1024\n",
            "WARNING:langchain_text_splitters.base:Created a chunk of size 1165, which is longer than the specified 1024\n",
            "WARNING:langchain_text_splitters.base:Created a chunk of size 1038, which is longer than the specified 1024\n",
            "WARNING:langchain_text_splitters.base:Created a chunk of size 1131, which is longer than the specified 1024\n",
            "WARNING:langchain_text_splitters.base:Created a chunk of size 1071, which is longer than the specified 1024\n",
            "WARNING:langchain_text_splitters.base:Created a chunk of size 1045, which is longer than the specified 1024\n",
            "WARNING:langchain_text_splitters.base:Created a chunk of size 1177, which is longer than the specified 1024\n",
            "WARNING:langchain_text_splitters.base:Created a chunk of size 1259, which is longer than the specified 1024\n",
            "WARNING:langchain_text_splitters.base:Created a chunk of size 1035, which is longer than the specified 1024\n"
          ]
        }
      ],
      "source": [
        "# делим текст на чанки и создаем индексную базу\n",
        "source_chunks = []\n",
        "splitter = CharacterTextSplitter(separator=\"\\n\", chunk_size=1024, chunk_overlap=0)\n",
        "\n",
        "for chunk in splitter.split_text(database):\n",
        "    source_chunks.append(Document(page_content=chunk, metadata={\"meta\":\"data\"}))\n",
        "\n",
        "# Инициализирум модель эмбеддингов\n",
        "embeddings = OpenAIEmbeddings()\n",
        "\n",
        "# Создадим индексную базу из разделенных фрагментов текста\n",
        "db = FAISS.from_documents(source_chunks, embeddings)"
      ]
    },
    {
      "cell_type": "code",
      "execution_count": 39,
      "metadata": {
        "id": "G1WkACmzKOZ2"
      },
      "outputs": [],
      "source": [
        "MODEL_GPT_4O_mini = \"gpt-4o-mini\"\n",
        "MODEL_GPT_4O = \"gpt-4o\"\n",
        "\n",
        "def create_completion(model, system, content, temperature):\n",
        "    messages = [\n",
        "        {\"role\": \"system\", \"content\": system},\n",
        "        {\"role\": \"user\", \"content\": content}\n",
        "    ]\n",
        "    client = OpenAI()\n",
        "    completion = client.chat.completions.create(\n",
        "        model=model,\n",
        "        messages=messages,\n",
        "        temperature=0\n",
        "\n",
        "    )\n",
        "    return completion.choices[0].message.content\n",
        "\n",
        "def create_completion_with_assistant(system, user_assist, assistant, user, temp=0, model='gpt-4o-mini'):\n",
        "    messages = [\n",
        "        {\"role\": \"system\", \"content\": system},\n",
        "        {\"role\": \"user\", \"content\": user_assist},\n",
        "        {'role':'assistant', 'content': assistant},\n",
        "        {\"role\": \"user\", \"content\": f\"{user}\"}\n",
        "\n",
        "    ]\n",
        "    completion = openai.chat.completions.create(\n",
        "        model=model,\n",
        "        messages=messages,\n",
        "        temperature=temp\n",
        "    )\n",
        "    answer = completion.choices[0].message.content\n",
        "    return answer\n",
        "\n",
        "def first_model(system_1, db, topic, temperature=0):\n",
        "    docs = db.similarity_search(topic, k=4)\n",
        "    message_content = ' '.join([f'\\nОтрывок документа №{i+1}\\n=====================' + doc.page_content + '\\n' for i, doc in enumerate(docs)])\n",
        "    question_content = f\"\"\"Ты - менеджер по продажам в университете искусственного интеллекта. Ответь на вопрос пользователя на основании\n",
        "    представленных документов и задай вопросы для выявления потребностей клиента.\n",
        "    Документ с информацией для ответа клиенту: {message_content}\\n\\nВопрос клиента: \\n{topic}\"\"\"\n",
        "    return fill(create_completion(MODEL_GPT_4O_mini, system_1, question_content, 0))\n",
        "\n",
        "def second_model(topic):\n",
        "    user_assist = \"\"\"Определи, были ли в переданных сообщениях клиента названы потребности и возражения. Потребности у клиента могут быть следующие: в трудоустройстве, в росте дохода,\n",
        "                в возможности работать удаленно, развиваться в сфере IT, сменить деятельность, в карьерном росте, во фрилансе,\n",
        "                в улучшении текущей позиции в компании, в развитии своего проекта (если он есть), в получении прибыли от своего\n",
        "                проекта (если он есть), в увекательном хобби, в личностном развитии и другие.  Возражения могут быть ориентировочно такие:\n",
        "                не умею программировать, не знаю математику, нет времени, курс дорого стоит и другие. Свой ответ ты должен сделать в формате:\n",
        "                Потребности:  Возражения:\n",
        "                То, что говорил клиент: 'Мне бы хотелось сменить профессию, я сейчас работаю медсестрой, но хочу переучиться и работать на удаленке, из дома.\n",
        "                Вопрос - смогу ли я, ведь у меня нет соответствующего профильного образования, я никогда не программировала, математику совсем не помню'\"\"\"\n",
        "    assistant = \"\"\"Потребности: сменить деятельность, возможность работать удаленно Возражения: не умею программировать, не знаю математику\"\"\"\n",
        "    user = f\"\"\"Определи, были ли в переданных сообщениях клиента названы потребности и возражения. Потребности у клиента могут быть следующие: в трудоустройстве, в росте дохода,\n",
        "                в возможности работать удаленно, развиваться в сфере IT, сменить деятельность, в карьерном росте, во фрилансе,\n",
        "                в улучшении текущей позиции в компании, в развитии своего проекта (если он есть), в получении прибыли от своего\n",
        "                проекта (если он есть), в увекательном хобби, в личностном развитии и другие.  Возражения могут быть ориентировочно такие: не умею программировать,\n",
        "                не знаю математику, нет времени, курс дорого стоит и другие. Свой ответ ты должен сделать в формате: Потребности:  Возражения:\n",
        "                То, что говорил клиент: '{topic}'\"\"\"\n",
        "\n",
        "    return create_completion_with_assistant(system_2, user_assist, assistant, user, temp=0, model=MODEL_GPT_4O_mini)\n",
        "\n",
        "def third_model(system_3, db, topic, user_needs):\n",
        "    docs = db.similarity_search(topic, k=4)\n",
        "    message_content = ' '.join([f'\\nОтрывок документа №{i+1}\\n=====================' + doc.page_content + '\\n' for i, doc in enumerate(docs)])\n",
        "    input_text = f\"\"\"Ты - менеджер по продажам в университете искусственного интеллекта. Ответь на вопрос пользователя на основании представленных\n",
        "    документов, но на сами документы не ссылайся, клиент ничего не должен о них знать. Документ с информацией для ответа клиенту: {message_content}\\n\\n\n",
        "    если в отчете о выявленных потребностях имеется информация о потребностях клиента, то предложи клиенту подходящий тариф.\n",
        "    Если такой информации нет - задавай вопросы для выявления потребностей.\n",
        "    Отчет о выявленных потребностях клиента: {user_needs} \\n\\nТекущий вопрос: {topic}\"\"\"\n",
        "    answer_text = create_completion(MODEL_GPT_4O_mini, system_3, input_text, 0)\n",
        "    return fill(answer_text)\n"
      ]
    },
    {
      "cell_type": "markdown",
      "source": [
        "Проверяем, как срабатывает функция:"
      ],
      "metadata": {
        "id": "16L3HbLyLBxD"
      }
    },
    {
      "cell_type": "code",
      "source": [
        "user_assist = \"\"\"Определи, были ли в переданных сообщениях клиента названы потребности и возражения. Потребности у клиента могут быть следующие: в трудоустройстве, в росте дохода,\n",
        "                в возможности работать удаленно, развиваться в сфере IT, сменить деятельность, в карьерном росте, во фрилансе,\n",
        "                в улучшении текущей позиции в компании, в развитии своего проекта (если он есть), в получении прибыли от своего\n",
        "                проекта (если он есть), в увекательном хобби, в личностном развитии и другие.  Возражения могут быть ориентировочно такие: не умею программировать,\n",
        "                не знаю математику, нет времени, курс дорого стоит и другие. Свой ответ ты должен сделать в формате: Потребности:  Возражения:\n",
        "                То, что говорил клиент: 'Мне бы хотелось сменить профессию, я сейчас работаю медсестрой, но хочу переучиться и работать на удаленке, из дома.\n",
        "                Вопрос - смогу ли я, ведь у меня нет соответствующего профильного образования, я никогда не программировала, математику совсем не помню'\"\"\"\n",
        "assistant = \"\"\"Потребности: сменить деятельность, возможность работать удаленно. Возражения: не умею программировать, не знаю математику. \"\"\"\n",
        "\n",
        "topic = \"\"\"Мне бы хотелось стать программистом и уйти с действующей работы, но так как я работаю full time, у меня не будет хватать времени на учебу\"\"\"\n",
        "user = f\"\"\"Определи, были ли в переданных сообщениях клиента названы потребности и возражения. Потребности у клиента могут быть следующие: в трудоустройстве, в росте дохода,\n",
        "                в возможности работать удаленно, развиваться в сфере IT, сменить деятельность, в карьерном росте, во фрилансе,\n",
        "                в улучшении текущей позиции в компании, в развитии своего проекта (если он есть), в получении прибыли от своего\n",
        "                проекта (если он есть), в увекательном хобби, в личностном развитии и другие.  Возражения могут быть ориентировочно такие: не умею программировать,\n",
        "                не знаю математику, нет времени, курс дорого стоит и другие. Свой ответ ты должен сделать в формате: Потребности:  Возражения:\n",
        "                То, что говорил клиент: '{topic}'\"\"\"\n",
        "ans = create_completion_with_assistant(system_2, user_assist, assistant, user, temp=0, model=MODEL_GPT_4O_mini)"
      ],
      "metadata": {
        "id": "V-gunEqN5btl"
      },
      "execution_count": 40,
      "outputs": []
    },
    {
      "cell_type": "code",
      "source": [
        "ans"
      ],
      "metadata": {
        "colab": {
          "base_uri": "https://localhost:8080/",
          "height": 38
        },
        "id": "U6e8tBaOHkym",
        "outputId": "ddddbcce-7768-4ba4-e06f-f368f10efec3"
      },
      "execution_count": 41,
      "outputs": [
        {
          "output_type": "execute_result",
          "data": {
            "text/plain": [
              "'Потребности: сменить деятельность, трудоустроиться. Возражения: нет времени.'"
            ],
            "application/vnd.google.colaboratory.intrinsic+json": {
              "type": "string"
            }
          },
          "metadata": {},
          "execution_count": 41
        }
      ]
    },
    {
      "cell_type": "markdown",
      "source": [
        "![image.png](data:image/png;base64,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)"
      ],
      "metadata": {
        "id": "tmtCPNk4oY3W"
      }
    },
    {
      "cell_type": "code",
      "execution_count": 42,
      "metadata": {
        "id": "hzY55Y5GKVRK"
      },
      "outputs": [],
      "source": [
        "def run_dialog():\n",
        "    clients_needs = \"\"\n",
        "    topic = input('Клиент: ')\n",
        "    answer_1 = first_model(system_1, db, topic, temperature=0)\n",
        "    answer_2 = second_model(topic)\n",
        "    clients_needs += answer_2\n",
        "    print('\\nМенеджер: ', answer_1)\n",
        "    print(\"------------------\")\n",
        "    print(\"ответ 2 модели:\", answer_2)\n",
        "\n",
        "    while True:\n",
        "        topic = input('Клиент: ')\n",
        "        if topic.lower() == 'stop':\n",
        "            break\n",
        "        answer_3 = third_model(system_3, db, topic, clients_needs)\n",
        "        answer_2 = second_model(topic)\n",
        "        clients_needs += answer_2\n",
        "        print('\\nМенеджер: ', answer_3)\n",
        "        print(\"------------------\")\n",
        "        print(\"ответ 2 модели:\", answer_2)\n",
        "        print(\"------------------\")\n",
        "        print(\"Выявленные потребности и возражения\", clients_needs)\n",
        "        print(\"------------------\")\n",
        "\n",
        "    return\n"
      ]
    },
    {
      "cell_type": "markdown",
      "source": [
        "Попробуем работу продажника на модели gpt-4o-mini"
      ],
      "metadata": {
        "id": "U8V1e2DeP_Wz"
      }
    },
    {
      "cell_type": "code",
      "source": [
        "run_dialog()"
      ],
      "metadata": {
        "colab": {
          "base_uri": "https://localhost:8080/"
        },
        "id": "7D1TPPJOLSze",
        "outputId": "247a1218-3fd1-4bcd-fd5e-9eac41c3a240"
      },
      "execution_count": 43,
      "outputs": [
        {
          "name": "stdout",
          "output_type": "stream",
          "text": [
            "Клиент: ghbdtn\n",
            "\n",
            "Менеджер:  Здравствуйте! Спасибо за ваш вопрос. Похоже, что вы написали что-то не\n",
            "совсем понятное. Если у вас есть конкретный вопрос о наших курсах по\n",
            "искусственному интеллекту или вебинаре, пожалуйста, уточните, и я с\n",
            "радостью на него отвечу.  Также мне интересно узнать, какие у вас цели\n",
            "в обучении? Вы хотите трудоустроиться в сфере AI, создать собственный\n",
            "проект или, возможно, просто изучаете AI как хобби?\n",
            "------------------\n",
            "ответ 2 модели: Потребности:  Возражения: \n",
            "Клиент: stop\n"
          ]
        }
      ]
    },
    {
      "cell_type": "code",
      "source": [
        "run_dialog()"
      ],
      "metadata": {
        "colab": {
          "base_uri": "https://localhost:8080/"
        },
        "id": "b183pL_xQbrY",
        "outputId": "00d6c720-f2e4-43b2-b95c-f49170dcdc8f"
      },
      "execution_count": 44,
      "outputs": [
        {
          "name": "stdout",
          "output_type": "stream",
          "text": [
            "Клиент: привет\n",
            "\n",
            "Менеджер:  Привет! Как я могу помочь вам сегодня? Есть ли у вас какие-то вопросы\n",
            "о наших курсах по искусственному интеллекту или о том, как они могут\n",
            "помочь вам в вашей карьере?\n",
            "------------------\n",
            "ответ 2 модели: Потребности:  Возражения: \n",
            "Клиент: stop\n"
          ]
        }
      ]
    },
    {
      "cell_type": "markdown",
      "source": [
        "Попробуем работу продажника на модели gpt4o"
      ],
      "metadata": {
        "id": "6NPsfG9hQIVe"
      }
    },
    {
      "cell_type": "code",
      "source": [
        "def third_model(system_3, db, topic, user_needs):\n",
        "    docs = db.similarity_search(topic, k=4)\n",
        "    message_content = ' '.join([f'\\nОтрывок документа №{i+1}\\n=====================' + doc.page_content + '\\n' for i, doc in enumerate(docs)])\n",
        "    input_text = f\"\"\"Ты - менеджер по продажам в университете искусственного интеллекта. Ответь на вопрос пользователя на основании представленных\n",
        "    документов, но на сами документы не ссылайся, клиент ничего не должен о них знать. Документ с информацией для ответа клиенту: {message_content}\\n\\n\n",
        "    если в отчете о выявленных потребностях имеется информация о потребностях клиента, то предложи клиенту подходящий тариф.\n",
        "    Если такой информации нет - задавай вопросы для выявления потребностей.\n",
        "    Отчет о выявленных потребностях клиента: {user_needs} \\n\\nТекущий вопрос: {topic}\"\"\"\n",
        "    answer_text = create_completion(MODEL_GPT_4O, system_3, input_text, 0)\n",
        "    return fill(answer_text)"
      ],
      "metadata": {
        "id": "KxXdUvcpQKvF"
      },
      "execution_count": 45,
      "outputs": []
    },
    {
      "cell_type": "code",
      "source": [
        "run_dialog()"
      ],
      "metadata": {
        "colab": {
          "base_uri": "https://localhost:8080/"
        },
        "id": "Xq7Obfa5QK3F",
        "outputId": "ae4d0fc0-5fea-4efc-b5e2-0e361faa9bae"
      },
      "execution_count": 46,
      "outputs": [
        {
          "name": "stdout",
          "output_type": "stream",
          "text": [
            "Клиент: hi\n",
            "\n",
            "Менеджер:  Здравствуйте! Как я могу помочь вам сегодня? Есть ли у вас какие-то\n",
            "вопросы о наших курсах по искусственному интеллекту?\n",
            "------------------\n",
            "ответ 2 модели: Потребности:  Возражения: \n",
            "Клиент: stop\n"
          ]
        }
      ]
    }
  ],
  "metadata": {
    "colab": {
      "provenance": [],
      "include_colab_link": true
    },
    "kernelspec": {
      "display_name": "Python 3",
      "name": "python3"
    },
    "language_info": {
      "name": "python"
    }
  },
  "nbformat": 4,
  "nbformat_minor": 0
}